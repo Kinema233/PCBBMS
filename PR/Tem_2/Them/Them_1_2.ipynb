{
  "nbformat": 4,
  "nbformat_minor": 0,
  "metadata": {
    "colab": {
      "provenance": []
    },
    "kernelspec": {
      "name": "python3",
      "display_name": "Python 3"
    },
    "language_info": {
      "name": "python"
    }
  },
  "cells": [
    {
      "cell_type": "code",
      "execution_count": 1,
      "metadata": {
        "colab": {
          "base_uri": "https://localhost:8080/"
        },
        "id": "R6EVBLcm60IS",
        "outputId": "5eb4ce46-b8ba-450f-fca0-8cd473be1616"
      },
      "outputs": [
        {
          "output_type": "stream",
          "name": "stdout",
          "text": [
            "Випадково обрано ймовірність схрещування Pc = 53.64%\n",
            "Запуск еволюційного пошуку...\n",
            "Еволюційний пошук завершено. Виконується локальна оптимізація (pattern search)...\n",
            "\n",
            "=== РЕЗУЛЬТАТИ ===\n",
            "Найкраща точка: x1 = -0.5072, x2 = 1.0144\n",
            "Максимальне значення функції f(x1, x2) = 1.455765\n",
            "Ймовірність схрещування Pc = 53.64%\n"
          ]
        }
      ],
      "source": [
        "import numpy as np\n",
        "from scipy.optimize import differential_evolution, minimize\n",
        "import random\n",
        "\n",
        "\n",
        "def f(x):\n",
        "    x1, x2 = x\n",
        "    return x1 * np.sin(4 * x1) + 1.1 * x2 * np.sin(2 * x2)\n",
        "\n",
        "\n",
        "def evolutionary_search():\n",
        "    Pc_percent = random.uniform(50, 90)\n",
        "    Pc = Pc_percent / 100.0\n",
        "    print(f\"Випадково обрано ймовірність схрещування Pc = {Pc_percent:.2f}%\")\n",
        "\n",
        "\n",
        "\n",
        "    pop_size = 200\n",
        "    mutation = (0.1, 0.5)\n",
        "    bounds = [(-5, 5), (-5, 5)]\n",
        "\n",
        "\n",
        "    print(\"Запуск еволюційного пошуку...\")\n",
        "    result_evo = differential_evolution(\n",
        "        func=lambda x: -f(x),\n",
        "        bounds=bounds,\n",
        "        strategy='best1bin',\n",
        "        popsize=int(pop_size / len(bounds)),\n",
        "        mutation=mutation,\n",
        "        recombination=Pc,\n",
        "        polish=False\n",
        "    )\n",
        "\n",
        "\n",
        "    print(\"Еволюційний пошук завершено. Виконується локальна оптимізація (pattern search)...\")\n",
        "    hybrid_result = minimize(\n",
        "        lambda x: -f(x),\n",
        "        x0=result_evo.x,\n",
        "        method='Powell',\n",
        "        bounds=bounds\n",
        "    )\n",
        "\n",
        "\n",
        "    best_x = hybrid_result.x\n",
        "    best_value = f(best_x)\n",
        "\n",
        "\n",
        "    print(\"\\n=== РЕЗУЛЬТАТИ ===\")\n",
        "    print(f\"Найкраща точка: x1 = {best_x[0]:.4f}, x2 = {best_x[1]:.4f}\")\n",
        "    print(f\"Максимальне значення функції f(x1, x2) = {best_value:.6f}\")\n",
        "    print(f\"Ймовірність схрещування Pc = {Pc*100:.2f}%\")\n",
        "    return best_x, best_value\n",
        "\n",
        "\n",
        "\n",
        "\n",
        "if __name__ == \"__main__\":\n",
        "    evolutionary_search()"
      ]
    }
  ]
}